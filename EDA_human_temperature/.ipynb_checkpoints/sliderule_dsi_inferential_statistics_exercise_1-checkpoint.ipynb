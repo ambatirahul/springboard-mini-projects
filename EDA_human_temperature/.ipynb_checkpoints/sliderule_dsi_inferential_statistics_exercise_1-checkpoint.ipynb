{
 "cells": [
  {
   "cell_type": "markdown",
   "metadata": {},
   "source": [
    "# What is the True Normal Human Body Temperature? \n",
    "\n",
    "#### Background\n",
    "\n",
    "The mean normal body temperature was held to be 37$^{\\circ}$C or 98.6$^{\\circ}$F for more than 120 years since it was first conceptualized and reported by Carl Wunderlich in a famous 1868 book. But, is this value statistically correct?"
   ]
  },
  {
   "cell_type": "markdown",
   "metadata": {},
   "source": [
    "<h3>Exercises</h3>\n",
    "\n",
    "<p>In this exercise, you will analyze a dataset of human body temperatures and employ the concepts of hypothesis testing, confidence intervals, and statistical significance.</p>\n",
    "\n",
    "<p>Answer the following questions <b>in this notebook below and submit to your Github account</b>.</p> \n",
    "\n",
    "<ol>\n",
    "<li>  Is the distribution of body temperatures normal? \n",
    "    <ul>\n",
    "    <li> Although this is not a requirement for the Central Limit Theorem to hold (read the introduction on Wikipedia's page about the CLT carefully: https://en.wikipedia.org/wiki/Central_limit_theorem), it gives us some peace of mind that the population may also be normally distributed if we assume that this sample is representative of the population.\n",
    "    <li> Think about the way you're going to check for the normality of the distribution. Graphical methods are usually used first, but there are also other ways: https://en.wikipedia.org/wiki/Normality_test\n",
    "    </ul>\n",
    "<li>  Is the sample size large? Are the observations independent?\n",
    "    <ul>\n",
    "    <li> Remember that this is a condition for the Central Limit Theorem, and hence the statistical tests we are using, to apply.\n",
    "    </ul>\n",
    "<li>  Is the true population mean really 98.6 degrees F?\n",
    "    <ul>\n",
    "    <li> First, try a bootstrap hypothesis test.\n",
    "    <li> Now, let's try frequentist statistical testing. Would you use a one-sample or two-sample test? Why?\n",
    "    <li> In this situation, is it appropriate to use the $t$ or $z$ statistic? \n",
    "    <li> Now try using the other test. How is the result be different? Why?\n",
    "    </ul>\n",
    "<li>  Draw a small sample of size 10 from the data and repeat both frequentist tests. \n",
    "    <ul>\n",
    "    <li> Which one is the correct one to use? \n",
    "    <li> What do you notice? What does this tell you about the difference in application of the $t$ and $z$ statistic?\n",
    "    </ul>\n",
    "<li>  At what temperature should we consider someone's temperature to be \"abnormal\"?\n",
    "    <ul>\n",
    "    <li> As in the previous example, try calculating everything using the boostrap approach, as well as the frequentist approach.\n",
    "    <li> Start by computing the margin of error and confidence interval. When calculating the confidence interval, keep in mind that you should use the appropriate formula for one draw, and not N draws.\n",
    "    </ul>\n",
    "<li>  Is there a significant difference between males and females in normal temperature?\n",
    "    <ul>\n",
    "    <li> What testing approach did you use and why?\n",
    "    <li> Write a story with your conclusion in the context of the original problem.\n",
    "    </ul>\n",
    "</ol>\n",
    "\n",
    "You can include written notes in notebook cells using Markdown: \n",
    "   - In the control panel at the top, choose Cell > Cell Type > Markdown\n",
    "   - Markdown syntax: http://nestacms.com/docs/creating-content/markdown-cheat-sheet\n",
    "\n",
    "#### Resources\n",
    "\n",
    "+ Information and data sources: http://www.amstat.org/publications/jse/datasets/normtemp.txt, http://www.amstat.org/publications/jse/jse_data_archive.htm\n",
    "+ Markdown syntax: http://nestacms.com/docs/creating-content/markdown-cheat-sheet\n",
    "\n",
    "****"
   ]
  },
  {
   "cell_type": "code",
   "execution_count": 1,
   "metadata": {
    "collapsed": true
   },
   "outputs": [],
   "source": [
    "import pandas as pd\n",
    "\n",
    "df = pd.read_csv('data/human_body_temperature.csv')"
   ]
  },
  {
   "cell_type": "code",
   "execution_count": 2,
   "metadata": {},
   "outputs": [
    {
     "data": {
      "text/html": [
       "<div>\n",
       "<style>\n",
       "    .dataframe thead tr:only-child th {\n",
       "        text-align: right;\n",
       "    }\n",
       "\n",
       "    .dataframe thead th {\n",
       "        text-align: left;\n",
       "    }\n",
       "\n",
       "    .dataframe tbody tr th {\n",
       "        vertical-align: top;\n",
       "    }\n",
       "</style>\n",
       "<table border=\"1\" class=\"dataframe\">\n",
       "  <thead>\n",
       "    <tr style=\"text-align: right;\">\n",
       "      <th></th>\n",
       "      <th>temperature</th>\n",
       "      <th>gender</th>\n",
       "      <th>heart_rate</th>\n",
       "    </tr>\n",
       "  </thead>\n",
       "  <tbody>\n",
       "    <tr>\n",
       "      <th>0</th>\n",
       "      <td>99.3</td>\n",
       "      <td>F</td>\n",
       "      <td>68.0</td>\n",
       "    </tr>\n",
       "    <tr>\n",
       "      <th>1</th>\n",
       "      <td>98.4</td>\n",
       "      <td>F</td>\n",
       "      <td>81.0</td>\n",
       "    </tr>\n",
       "    <tr>\n",
       "      <th>2</th>\n",
       "      <td>97.8</td>\n",
       "      <td>M</td>\n",
       "      <td>73.0</td>\n",
       "    </tr>\n",
       "    <tr>\n",
       "      <th>3</th>\n",
       "      <td>99.2</td>\n",
       "      <td>F</td>\n",
       "      <td>66.0</td>\n",
       "    </tr>\n",
       "    <tr>\n",
       "      <th>4</th>\n",
       "      <td>98.0</td>\n",
       "      <td>F</td>\n",
       "      <td>73.0</td>\n",
       "    </tr>\n",
       "  </tbody>\n",
       "</table>\n",
       "</div>"
      ],
      "text/plain": [
       "   temperature gender  heart_rate\n",
       "0         99.3      F        68.0\n",
       "1         98.4      F        81.0\n",
       "2         97.8      M        73.0\n",
       "3         99.2      F        66.0\n",
       "4         98.0      F        73.0"
      ]
     },
     "execution_count": 2,
     "metadata": {},
     "output_type": "execute_result"
    }
   ],
   "source": [
    "df.head()"
   ]
  },
  {
   "cell_type": "code",
   "execution_count": 3,
   "metadata": {},
   "outputs": [
    {
     "data": {
      "text/html": [
       "<div>\n",
       "<style>\n",
       "    .dataframe thead tr:only-child th {\n",
       "        text-align: right;\n",
       "    }\n",
       "\n",
       "    .dataframe thead th {\n",
       "        text-align: left;\n",
       "    }\n",
       "\n",
       "    .dataframe tbody tr th {\n",
       "        vertical-align: top;\n",
       "    }\n",
       "</style>\n",
       "<table border=\"1\" class=\"dataframe\">\n",
       "  <thead>\n",
       "    <tr style=\"text-align: right;\">\n",
       "      <th></th>\n",
       "      <th>temperature</th>\n",
       "      <th>heart_rate</th>\n",
       "    </tr>\n",
       "  </thead>\n",
       "  <tbody>\n",
       "    <tr>\n",
       "      <th>count</th>\n",
       "      <td>130.000000</td>\n",
       "      <td>130.000000</td>\n",
       "    </tr>\n",
       "    <tr>\n",
       "      <th>mean</th>\n",
       "      <td>98.249231</td>\n",
       "      <td>73.761538</td>\n",
       "    </tr>\n",
       "    <tr>\n",
       "      <th>std</th>\n",
       "      <td>0.733183</td>\n",
       "      <td>7.062077</td>\n",
       "    </tr>\n",
       "    <tr>\n",
       "      <th>min</th>\n",
       "      <td>96.300000</td>\n",
       "      <td>57.000000</td>\n",
       "    </tr>\n",
       "    <tr>\n",
       "      <th>25%</th>\n",
       "      <td>97.800000</td>\n",
       "      <td>69.000000</td>\n",
       "    </tr>\n",
       "    <tr>\n",
       "      <th>50%</th>\n",
       "      <td>98.300000</td>\n",
       "      <td>74.000000</td>\n",
       "    </tr>\n",
       "    <tr>\n",
       "      <th>75%</th>\n",
       "      <td>98.700000</td>\n",
       "      <td>79.000000</td>\n",
       "    </tr>\n",
       "    <tr>\n",
       "      <th>max</th>\n",
       "      <td>100.800000</td>\n",
       "      <td>89.000000</td>\n",
       "    </tr>\n",
       "  </tbody>\n",
       "</table>\n",
       "</div>"
      ],
      "text/plain": [
       "       temperature  heart_rate\n",
       "count   130.000000  130.000000\n",
       "mean     98.249231   73.761538\n",
       "std       0.733183    7.062077\n",
       "min      96.300000   57.000000\n",
       "25%      97.800000   69.000000\n",
       "50%      98.300000   74.000000\n",
       "75%      98.700000   79.000000\n",
       "max     100.800000   89.000000"
      ]
     },
     "execution_count": 3,
     "metadata": {},
     "output_type": "execute_result"
    }
   ],
   "source": [
    "df.describe()"
   ]
  },
  {
   "cell_type": "code",
   "execution_count": 4,
   "metadata": {
    "collapsed": true
   },
   "outputs": [],
   "source": [
    "%matplotlib inline\n",
    "import numpy as np\n",
    "import matplotlib.pyplot as plt\n",
    "import seaborn as sns\n",
    "from scipy import stats"
   ]
  },
  {
   "cell_type": "markdown",
   "metadata": {
    "collapsed": true
   },
   "source": [
    "### 1) Is the distribution of body temperatures normal?"
   ]
  },
  {
   "cell_type": "code",
   "execution_count": 5,
   "metadata": {
    "collapsed": true
   },
   "outputs": [],
   "source": [
    "temperature = df['temperature']\n",
    "female_temperature = df[df['gender']=='F']['temperature']\n",
    "male_temperature = df[df['gender']=='M']['temperature']"
   ]
  },
  {
   "cell_type": "code",
   "execution_count": 6,
   "metadata": {},
   "outputs": [
    {
     "data": {
      "image/png": "[encoded data removed]",
      "text/plain": [
       "<matplotlib.figure.Figure at 0x26b0aee92b0>"
      ]
     },
     "metadata": {},
     "output_type": "display_data"
    }
   ],
   "source": [
    "plt.hist(temperature,bins=100)\n",
    "plt.title('human body temperature')\n",
    "plt.xlabel('temperature in degree F')\n",
    "plt.ylabel('count')\n",
    "plt.show()"
   ]
  },
  {
   "cell_type": "code",
   "execution_count": 7,
   "metadata": {
    "collapsed": true
   },
   "outputs": [],
   "source": [
    "def ecdf(data):\n",
    "    \"\"\"compute ecdf\"\"\"\n",
    "    return np.sort(data), np.arange(1, len(data)+1)/len(data)"
   ]
  },
  {
   "cell_type": "code",
   "execution_count": 8,
   "metadata": {},
   "outputs": [
    {
     "data": {
      "image/png": "[encoded data removed]",
      "text/plain": [
       "<matplotlib.figure.Figure at 0x26b0b489be0>"
      ]
     },
     "metadata": {},
     "output_type": "display_data"
    }
   ],
   "source": [
    "x_temp, y_temp = ecdf(temperature)\n",
    "theoretical = np.random.normal(np.mean(temperature), np.std(temperature), size=1000)\n",
    "x_theo_temp, y_theo_temp = ecdf(theoretical)\n",
    "\n",
    "plt.plot(x_temp,y_temp,marker='.',linestyle='none')\n",
    "plt.plot(x_theo_temp,y_theo_temp)\n",
    "plt.title('human body theoretical v acctual distribution')\n",
    "plt.ylabel('cdf')\n",
    "plt.xlabel('temperature in degree F')\n",
    "plt.legend(('cdf','ecdf'))\n",
    "plt.show()"
   ]
  },
  {
   "cell_type": "code",
   "execution_count": 9,
   "metadata": {},
   "outputs": [
    {
     "name": "stdout",
     "output_type": "stream",
     "text": [
      "normal test statistic:\t 2.70380143332 \n",
      "normal test p value:\t 0.258747986349\n"
     ]
    }
   ],
   "source": [
    "n_stat, n_pval = stats.normaltest(temperature)\n",
    "print('normal test statistic:\\t',n_stat,'\\nnormal test p value:\\t',n_pval)"
   ]
  },
  {
   "cell_type": "markdown",
   "metadata": {},
   "source": [
    "From normal test we get p-val which is greater than 0.05, plus we see the temperatures distribution lie in theoretical distribution.\n",
    "\n",
    "So we can say that the temperature is normally distributed."
   ]
  },
  {
   "cell_type": "markdown",
   "metadata": {},
   "source": [
    "### 2) Is the sample size large? Are the observations independent?"
   ]
  },
  {
   "cell_type": "code",
   "execution_count": 10,
   "metadata": {},
   "outputs": [
    {
     "name": "stdout",
     "output_type": "stream",
     "text": [
      "total\t: 130 \n",
      "female\t: 65 \n",
      "male\t: 65\n"
     ]
    }
   ],
   "source": [
    "print('total\\t:',len(temperature),'\\nfemale\\t:',len(female_temperature),'\\nmale\\t:',len(male_temperature))"
   ]
  },
  {
   "cell_type": "markdown",
   "metadata": {},
   "source": [
    "Sample should be more than 30 for CLT, here we see we have more than 30 and we can say the sample size is large.\n",
    "\n",
    "The observations are independent since there is no dependency on other temperature observations (i.e, no correlation)"
   ]
  },
  {
   "cell_type": "markdown",
   "metadata": {},
   "source": [
    "### Is the true population mean really 98.6 degrees F?\n",
    "\n",
    "First, try a bootstrap hypothesis test."
   ]
  },
  {
   "cell_type": "code",
   "execution_count": 11,
   "metadata": {},
   "outputs": [
    {
     "name": "stdout",
     "output_type": "stream",
     "text": [
      "bootstrap p value:\t 0.0\n"
     ]
    }
   ],
   "source": [
    "bootstrap_replicates = np.empty(10000)\n",
    "\n",
    "for i in range(10000):\n",
    "    bootstrap_replicates[i] = np.mean(np.random.choice(temperature,size=len(temperature)))\n",
    "\n",
    "bootstrap_pval = np.sum(bootstrap_replicates >= 98.6)/10000\n",
    "print('bootstrap p value:\\t',bootstrap_pval)"
   ]
  },
  {
   "cell_type": "markdown",
   "metadata": {},
   "source": [
    "p value is zero for replicates, it implies that the mean is not 98.6 (as mentioned in Q)"
   ]
  },
  {
   "cell_type": "markdown",
   "metadata": {},
   "source": [
    "Now, let's try frequentist statistical testing. Would you use a one-sample or two-sample test? Why?"
   ]
  },
  {
   "cell_type": "code",
   "execution_count": 12,
   "metadata": {},
   "outputs": [
    {
     "name": "stdout",
     "output_type": "stream",
     "text": [
      "mean: 98.24923076923078 \tstd: 0.7331831580389454\n",
      "temperature distribution error:\t 0.0643044168379\n"
     ]
    }
   ],
   "source": [
    "mean_temperature = temperature.mean()\n",
    "std_temperature = temperature.std()\n",
    "print('mean:',mean_temperature,'\\tstd:',std_temperature)\n",
    "temperature_dist_err = std_temperature/np.sqrt(len(temperature))\n",
    "print('temperature distribution error:\\t',temperature_dist_err)"
   ]
  },
  {
   "cell_type": "markdown",
   "metadata": {},
   "source": [
    "Calculate 95% confidence interval."
   ]
  },
  {
   "cell_type": "code",
   "execution_count": 13,
   "metadata": {},
   "outputs": [
    {
     "name": "stdout",
     "output_type": "stream",
     "text": [
      "95% confidence [ 98.1231941122  ,  98.3752674262 ]\n"
     ]
    }
   ],
   "source": [
    "## mean (+/-) 2.0 * distribution\n",
    "five_per = mean_temperature - 1.96*temperature_dist_err\n",
    "nine_five_per = mean_temperature + 1.96*temperature_dist_err\n",
    "print('95% confidence [',five_per ,' , ',nine_five_per, ']')"
   ]
  },
  {
   "cell_type": "markdown",
   "metadata": {},
   "source": [
    "One-sample test will be used, since we are having one group (not comparing with different groups) and comparing with mean (98.6)."
   ]
  },
  {
   "cell_type": "markdown",
   "metadata": {},
   "source": [
    "In this situation, is it appropriate to use the  tt  or  zz  statistic?"
   ]
  },
  {
   "cell_type": "markdown",
   "metadata": {},
   "source": [
    "It is appropriate to use z-test, since the sample size is greater than 30."
   ]
  },
  {
   "cell_type": "markdown",
   "metadata": {},
   "source": [
    "Now try using the other test. How is the result be different? Why?"
   ]
  },
  {
   "cell_type": "code",
   "execution_count": 14,
   "metadata": {},
   "outputs": [
    {
     "name": "stdout",
     "output_type": "stream",
     "text": [
      "tt statistic:\t -5.45482329236 \n",
      "tt p_value:\t 2.41063204156e-07\n"
     ]
    }
   ],
   "source": [
    "tt_stat, tt_pval = stats.ttest_1samp(temperature, 98.6, axis=0)\n",
    "print('tt statistic:\\t',tt_stat, '\\ntt p_value:\\t',tt_pval)"
   ]
  },
  {
   "cell_type": "code",
   "execution_count": 15,
   "metadata": {},
   "outputs": [
    {
     "name": "stdout",
     "output_type": "stream",
     "text": [
      "zz statistic:\t -5.45482329236 \n",
      "zz p_value:\t 4.90215701411e-08\n"
     ]
    }
   ],
   "source": [
    "zz_value = (mean_temperature - 98.6)/(std_temperature/np.sqrt(len(temperature)))\n",
    "zz_pval = stats.norm.sf(abs(zz_value))*2 #twosided\n",
    "print('zz statistic:\\t',zz_value, '\\nzz p_value:\\t',zz_pval)"
   ]
  },
  {
   "cell_type": "markdown",
   "metadata": {},
   "source": [
    "p value of t-test is larger than z-test, meaning t-test distribution is fatter than z-test distribution still less than 0.05, so mean temperaure is not 98.6."
   ]
  },
  {
   "cell_type": "markdown",
   "metadata": {},
   "source": [
    "### 4) Draw a small sample of size 10 from the data and repeat both frequentist tests."
   ]
  },
  {
   "cell_type": "markdown",
   "metadata": {},
   "source": [
    "Which one is the correct one to use?\n",
    "\n",
    "What do you notice? What does this tell you about the difference in application of the  tt  and  zz  statistic?"
   ]
  },
  {
   "cell_type": "code",
   "execution_count": 16,
   "metadata": {},
   "outputs": [
    {
     "name": "stdout",
     "output_type": "stream",
     "text": [
      "[ 98.4  99.4  96.7  98.3  98.6  97.2  98.3  98.8  97.8  98.4]\n"
     ]
    }
   ],
   "source": [
    "temperature_10 = np.random.choice(temperature, size=10)\n",
    "print(temperature_10)"
   ]
  },
  {
   "cell_type": "code",
   "execution_count": 18,
   "metadata": {},
   "outputs": [
    {
     "name": "stdout",
     "output_type": "stream",
     "text": [
      "mean (10):\t 98.19 \n",
      "std (10):\t 0.739526875779\n",
      "temperature distribution error (10):\t 0.233858931837\n"
     ]
    }
   ],
   "source": [
    "# frequentist test\n",
    "mean_temperature_10 = temperature_10.mean()\n",
    "std_temperature_10 = temperature_10.std()\n",
    "print('mean (10):\\t',mean_temperature_10 ,'\\nstd (10):\\t',std_temperature_10)\n",
    "temperature_dist_10 = std_temperature_10/np.sqrt(len(temperature_10))\n",
    "print('temperature distribution error (10):\\t',temperature_dist_10)"
   ]
  },
  {
   "cell_type": "code",
   "execution_count": 19,
   "metadata": {},
   "outputs": [
    {
     "name": "stdout",
     "output_type": "stream",
     "text": [
      "95% confidence [ 97.7222821363  ,  98.6577178637 ]\n"
     ]
    }
   ],
   "source": [
    "five_per_10 = mean_temperature_10 - 2*temperature_dist_10\n",
    "nine_five_per_10 = mean_temperature_10 + 2*temperature_dist_10\n",
    "print('95% confidence [',five_per_10 ,' , ',nine_five_per_10, ']')"
   ]
  },
  {
   "cell_type": "code",
   "execution_count": 20,
   "metadata": {},
   "outputs": [
    {
     "name": "stdout",
     "output_type": "stream",
     "text": [
      "tt statistic (10):\t -1.66322555716 \n",
      "tt p_value (10):\t 0.130628381533\n"
     ]
    }
   ],
   "source": [
    "# tt-test\n",
    "tt_stat_10, tt_pval_10 = stats.ttest_1samp(temperature_10, 98.6, axis=0)\n",
    "print('tt statistic (10):\\t',tt_stat_10, '\\ntt p_value (10):\\t',tt_pval_10)"
   ]
  },
  {
   "cell_type": "code",
   "execution_count": 22,
   "metadata": {},
   "outputs": [
    {
     "name": "stdout",
     "output_type": "stream",
     "text": [
      "zz statistic (10):\t -1.75319367441 \n",
      "zz p_value (10):\t 0.0795687684489\n"
     ]
    }
   ],
   "source": [
    "# zz-test\n",
    "zz_value_10 = (mean_temperature_10 - 98.6)/(std_temperature_10/np.sqrt(len(temperature_10)))\n",
    "zz_pval_10 = stats.norm.sf(abs(zz_value_10))*2 #twosided\n",
    "print('zz statistic (10):\\t',zz_value_10, '\\nzz p_value (10):\\t',zz_pval_10)"
   ]
  },
  {
   "cell_type": "markdown",
   "metadata": {},
   "source": [
    "p_values for both tests are close to 0.5, the random sample selection does have a mean temperature close to 98.6\n",
    "\n",
    "Also There seems to be a significant difference in tt-test and zz-test (we might end up having incorrect results), ideally t-statistic is to be used if sample is less than 30. "
   ]
  },
  {
   "cell_type": "markdown",
   "metadata": {},
   "source": [
    "### 5) At what temperature should we consider someone's temperature to be \"abnormal\"?"
   ]
  },
  {
   "cell_type": "markdown",
   "metadata": {},
   "source": [
    "As in the previous example, try calculating everything using the boostrap approach, as well as the frequentist approach."
   ]
  },
  {
   "cell_type": "code",
   "execution_count": 23,
   "metadata": {},
   "outputs": [
    {
     "name": "stdout",
     "output_type": "stream",
     "text": [
      "95% confidence :[ 98.1230769231 , 98.3723307692 ]\n"
     ]
    }
   ],
   "source": [
    "bootstrap_replicates = np.empty(10000)\n",
    "for i in range(10000):\n",
    "    bootstrap_replicates[i] = np.mean(np.random.choice(temperature,size=len(temperature)))\n",
    "bootstrap_ci = np.percentile(bootstrap_replicates,[2.5,97,5])\n",
    "print('95% confidence :[',bootstrap_ci[0],',',bootstrap_ci[1],']')"
   ]
  },
  {
   "cell_type": "code",
   "execution_count": 24,
   "metadata": {},
   "outputs": [
    {
     "name": "stdout",
     "output_type": "stream",
     "text": [
      "mean:\t 98.2493844615 \n",
      "std:\t 0.0644659392658\n"
     ]
    },
    {
     "ename": "NameError",
     "evalue": "name 'mt' is not defined",
     "output_type": "error",
     "traceback": [
      "\u001b[1;31m---------------------------------------------------------------------------\u001b[0m",
      "\u001b[1;31mNameError\u001b[0m                                 Traceback (most recent call last)",
      "\u001b[1;32m<ipython-input-24-031365196380>\u001b[0m in \u001b[0;36m<module>\u001b[1;34m()\u001b[0m\n\u001b[0;32m      3\u001b[0m \u001b[0mprint\u001b[0m\u001b[1;33m(\u001b[0m\u001b[1;34m'mean:\\t'\u001b[0m\u001b[1;33m,\u001b[0m\u001b[0mbootstrap_mean_temperature\u001b[0m\u001b[1;33m,\u001b[0m\u001b[1;34m'\\nstd:\\t'\u001b[0m\u001b[1;33m,\u001b[0m\u001b[0mbootstrap_std_temperature\u001b[0m\u001b[1;33m)\u001b[0m\u001b[1;33m\u001b[0m\u001b[0m\n\u001b[0;32m      4\u001b[0m \u001b[1;33m\u001b[0m\u001b[0m\n\u001b[1;32m----> 5\u001b[1;33m \u001b[0mbootstrap_temperature_dist_err\u001b[0m \u001b[1;33m=\u001b[0m \u001b[0mbootstrap_std_temperature\u001b[0m\u001b[1;33m/\u001b[0m\u001b[0mmt\u001b[0m\u001b[1;33m.\u001b[0m\u001b[0msqrt\u001b[0m\u001b[1;33m(\u001b[0m\u001b[0mlen\u001b[0m\u001b[1;33m(\u001b[0m\u001b[0mtemperature\u001b[0m\u001b[1;33m)\u001b[0m\u001b[1;33m)\u001b[0m\u001b[1;33m\u001b[0m\u001b[0m\n\u001b[0m\u001b[0;32m      6\u001b[0m \u001b[0mprint\u001b[0m\u001b[1;33m(\u001b[0m\u001b[1;34m'temperature distribution error:\\t'\u001b[0m\u001b[1;33m,\u001b[0m\u001b[0mbootstrap_temperature_dist_err\u001b[0m\u001b[1;33m)\u001b[0m\u001b[1;33m\u001b[0m\u001b[0m\n\u001b[0;32m      7\u001b[0m \u001b[1;33m\u001b[0m\u001b[0m\n",
      "\u001b[1;31mNameError\u001b[0m: name 'mt' is not defined"
     ]
    }
   ],
   "source": [
    "bootstrap_mean_temperature = bootstrap_replicates.mean()\n",
    "bootstrap_std_temperature = bootstrap_replicates.std()\n",
    "print('mean:\\t',bootstrap_mean_temperature,'\\nstd:\\t',bootstrap_std_temperature)\n",
    "\n",
    "bootstrap_temperature_dist_err = bootstrap_std_temperature/mt.sqrt(len(temperature))\n",
    "print('temperature distribution error:\\t',bootstrap_temperature_dist_err)\n",
    "\n",
    "bootstrap_five_per = bootstrap_mean_temperature - 1.96*bootstrap_temperature_dist_err\n",
    "bootstrap_nine_five_per = bootstrap_mean_temperature + 1.96*bootstrap_temperature_dist_err\n",
    "print('95% confidence [',bootstrap_five_per ,' , ',bootstrap_nine_five_per, ']')\n",
    "\n",
    "# bit confusion here."
   ]
  },
  {
   "cell_type": "markdown",
   "metadata": {},
   "source": [
    "Calculate predictive intervals using a normal interval."
   ]
  },
  {
   "cell_type": "code",
   "execution_count": 25,
   "metadata": {},
   "outputs": [
    {
     "data": {
      "text/plain": [
       "(96.812218185403111, 99.686243353058444)"
      ]
     },
     "execution_count": 25,
     "metadata": {},
     "output_type": "execute_result"
    }
   ],
   "source": [
    "predictive_ci = stats.norm.interval(0.95, loc=mean_temperature, scale=std_temperature)\n",
    "predictive_ci"
   ]
  },
  {
   "cell_type": "markdown",
   "metadata": {},
   "source": [
    "Start by computing the margin of error and confidence interval. When calculating the confidence interval, keep in mind that you should use the appropriate formula for one draw, and not N draws."
   ]
  },
  {
   "cell_type": "code",
   "execution_count": 26,
   "metadata": {},
   "outputs": [
    {
     "name": "stdout",
     "output_type": "stream",
     "text": [
      "Normal range of temperature [ 98.1231941122  ,  98.3752674262 ]\n"
     ]
    }
   ],
   "source": [
    "print('Normal range of temperature [',five_per,' , ', nine_five_per, ']')"
   ]
  },
  {
   "cell_type": "markdown",
   "metadata": {},
   "source": [
    "If temperatures lie outside of this interval, it is considered to be abnormal.\n",
    "\n",
    "Also let's calculate the 95% confidence interval for temperature."
   ]
  },
  {
   "cell_type": "code",
   "execution_count": 27,
   "metadata": {},
   "outputs": [
    {
     "name": "stdout",
     "output_type": "stream",
     "text": [
      "95% confidence interval :[ 96.7225 , 99.4775 ]\n"
     ]
    }
   ],
   "source": [
    "temperature_conf_interval = np.percentile(temperature, [2.5,97.5])\n",
    "print('95% confidence interval :[',temperature_conf_interval[0],',',temperature_conf_interval[1],']')"
   ]
  },
  {
   "cell_type": "markdown",
   "metadata": {},
   "source": [
    "We consider to be abnormal if temperature lies above and below of the 95% confidence interval."
   ]
  },
  {
   "cell_type": "markdown",
   "metadata": {},
   "source": [
    "### 6) Is there a significant difference between males and females in normal temperature?"
   ]
  },
  {
   "cell_type": "code",
   "execution_count": 28,
   "metadata": {},
   "outputs": [
    {
     "data": {
      "image/png": "[encoded data removed]",
      "text/plain": [
       "<matplotlib.figure.Figure at 0x26b0b631208>"
      ]
     },
     "metadata": {},
     "output_type": "display_data"
    },
    {
     "name": "stdout",
     "output_type": "stream",
     "text": [
      "The difference between the male and female mean temperatures is 0.289230769231\n"
     ]
    }
   ],
   "source": [
    "x_male, y_male = ecdf(male_temperature)\n",
    "x_female, y_female = ecdf(female_temperature)\n",
    "\n",
    "plt.plot(x_male, y_male, marker='.', linestyle='none', color='red')\n",
    "plt.plot(x_female, y_female, marker='.', linestyle='none', color='blue')\n",
    "plt.xlabel('Temperature(F)')\n",
    "plt.ylabel('ECDF')\n",
    "plt.legend(('Male', 'Female'), loc='lower right')\n",
    "plt.title('Male vs Female: Human Body Temperature')\n",
    "plt.show()\n",
    "\n",
    "male_and_female_diff = np.abs(np.mean(male_temperature) - np.mean(female_temperature))\n",
    "print('The difference between the male and female mean temperatures is', male_and_female_diff)"
   ]
  },
  {
   "cell_type": "markdown",
   "metadata": {},
   "source": [
    "What testing approach did you use and why?"
   ]
  },
  {
   "cell_type": "code",
   "execution_count": 29,
   "metadata": {},
   "outputs": [
    {
     "name": "stdout",
     "output_type": "stream",
     "text": [
      "statistic:\t 2.28543453817 \n",
      "p val:\t\t 0.0239382641829\n"
     ]
    }
   ],
   "source": [
    "t_fm_stat, p_fm_value = stats.ttest_ind(female_temperature, male_temperature, axis=0, equal_var=False)\n",
    "print('statistic:\\t',t_fm_stat,'\\np val:\\t\\t',p_fm_value)"
   ]
  },
  {
   "cell_type": "code",
   "execution_count": 30,
   "metadata": {},
   "outputs": [
    {
     "name": "stdout",
     "output_type": "stream",
     "text": [
      "p value : 0.0266\n"
     ]
    }
   ],
   "source": [
    "bootstrap_permutations_replicates = np.empty(10000)\n",
    "for i in range(10000):\n",
    "    combined = np.random.permutation(np.concatenate((female_temperature,male_temperature)))\n",
    "    female_permutation = combined[:len(female_temperature)]\n",
    "    male_permutation = combined[len(male_temperature):]\n",
    "    bootstrap_permutations_replicates[i] = np.abs(np.mean(female_permutation) - np.mean(male_permutation))\n",
    "    #print(bootstrap_permutations[i])\n",
    "bootstrap_permutations_replicates_pval = np.sum(bootstrap_permutations_replicates > male_and_female_diff)/10000\n",
    "print('p value :',bootstrap_permutations_replicates_pval)"
   ]
  },
  {
   "cell_type": "markdown",
   "metadata": {},
   "source": [
    "We see above p value is less than 0.05, which means statistically significant (i.e, there is a significant difference between male and female temperatures)."
   ]
  },
  {
   "cell_type": "markdown",
   "metadata": {},
   "source": [
    "#### Write a story with your conclusion in the context of the original problem."
   ]
  },
  {
   "cell_type": "markdown",
   "metadata": {
    "collapsed": true
   },
   "source": [
    "The report stated that the mean normal body temperature was held to be 37 deg C or 98.6 deg F for more than 120 years but, from our statistical analysis we see that the mean body temperature is lower than expected and the range lies between 98.12 to 98.37 deg F. Also there is statistical difference between male and female body temperatures."
   ]
  }
 ],
 "metadata": {
  "kernelspec": {
   "display_name": "Python 3",
   "language": "python",
   "name": "python3"
  },
  "language_info": {
   "codemirror_mode": {
    "name": "ipython",
    "version": 3
   },
   "file_extension": ".py",
   "mimetype": "text/x-python",
   "name": "python",
   "nbconvert_exporter": "python",
   "pygments_lexer": "ipython3",
   "version": "3.6.3"
  }
 },
 "nbformat": 4,
 "nbformat_minor": 1
}
